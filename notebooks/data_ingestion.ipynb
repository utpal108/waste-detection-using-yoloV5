{
 "cells": [
  {
   "cell_type": "markdown",
   "metadata": {},
   "source": [
    "## Data Ingestion"
   ]
  },
  {
   "cell_type": "code",
   "execution_count": 2,
   "metadata": {},
   "outputs": [],
   "source": [
    "import os"
   ]
  },
  {
   "cell_type": "code",
   "execution_count": 3,
   "metadata": {},
   "outputs": [],
   "source": [
    "os.chdir('../')"
   ]
  },
  {
   "cell_type": "code",
   "execution_count": 4,
   "metadata": {},
   "outputs": [
    {
     "data": {
      "text/plain": [
       "'/home/utpal108/dev/Python/PW_Skills_Projects/waste-detection-using-yoloV5'"
      ]
     },
     "execution_count": 4,
     "metadata": {},
     "output_type": "execute_result"
    }
   ],
   "source": [
    "%pwd"
   ]
  },
  {
   "cell_type": "code",
   "execution_count": 5,
   "metadata": {},
   "outputs": [],
   "source": [
    "# Config Entity\n",
    "from dataclasses import dataclass\n",
    "from pathlib import Path\n",
    "\n",
    "@dataclass(frozen=True)\n",
    "class DataIngestionConfig:\n",
    "    root_dir: Path\n",
    "    source_url: str\n",
    "    raw_dataset_dir: Path\n",
    "    dataset_dir: Path"
   ]
  },
  {
   "cell_type": "code",
   "execution_count": 6,
   "metadata": {},
   "outputs": [],
   "source": [
    "from wasteDetection.constants import *\n",
    "from wasteDetection.utils import create_directories, read_yaml"
   ]
  },
  {
   "cell_type": "code",
   "execution_count": 12,
   "metadata": {},
   "outputs": [],
   "source": [
    "# Configuration Manager\n",
    "class ConfigurationManager:\n",
    "    def __init__(self, config_filepath = CONFIG_FILE_PATH, params_filepath = PARAMS_FILE_PATH):\n",
    "\n",
    "        self.config = read_yaml(config_filepath)\n",
    "        self.params = read_yaml(params_filepath)\n",
    "\n",
    "        create_directories([self.config.artifacts_root])\n",
    "\n",
    "    def get_data_ingestion_config(self) -> DataIngestionConfig:\n",
    "        config = self.config.data_ingestion\n",
    "        create_directories([config.root_dir])\n",
    "\n",
    "        data_ingestion_config = DataIngestionConfig(\n",
    "            root_dir = Path(config.root_dir),\n",
    "            source_url = config.source_URL,\n",
    "            raw_dataset_dir = Path(config.raw_dataset_dir),\n",
    "            dataset_dir = Path(config.dataset_dir)\n",
    "        )\n",
    "\n",
    "        return data_ingestion_config"
   ]
  },
  {
   "cell_type": "code",
   "execution_count": 23,
   "metadata": {},
   "outputs": [],
   "source": [
    "import gdown\n",
    "from wasteDetection.logger import logger\n",
    "import zipfile\n",
    "import shutil"
   ]
  },
  {
   "cell_type": "code",
   "execution_count": 30,
   "metadata": {},
   "outputs": [],
   "source": [
    "# Components\n",
    "class DataIngestion:\n",
    "    def __init__(self, config: DataIngestionConfig):\n",
    "        self.config = config\n",
    "\n",
    "    def _download_dataset(self) -> None:\n",
    "        '''\n",
    "        Fetch the dataset from the URL\n",
    "        '''\n",
    "\n",
    "        try:\n",
    "            if (not os.path.exists(self.config.dataset_dir)) or (not os.listdir(self.config.dataset_dir)):\n",
    "                create_directories([self.config.raw_dataset_dir])\n",
    "                \n",
    "                dataset_url = self.config.source_url\n",
    "                output_path = os.path.join(self.config.raw_dataset_dir, 'data.zip')\n",
    "                file_id = dataset_url.split('/')[-2]\n",
    "                prefix = 'https://drive.google.com/uc?/export=download&id='\n",
    "                gdown.download(prefix+file_id, output_path, quiet=False)\n",
    "\n",
    "                logger.info(\"Dataset downloaded successful\")\n",
    "\n",
    "\n",
    "        except Exception as e:\n",
    "            raise e\n",
    "        \n",
    "\n",
    "    def _preprocess_dataset(self):\n",
    "        '''\n",
    "        Preprocess the raw dataset\n",
    "        '''\n",
    "        if os.path.exists(self.config.raw_dataset_dir):\n",
    "            create_directories([self.config.dataset_dir])\n",
    "            try:\n",
    "                for root, dirs, files in os.walk(self.config.raw_dataset_dir):\n",
    "                    for file in files:\n",
    "                        \n",
    "                        # Check if the file is an zip file\n",
    "                        if file.lower().endswith(('.zip')):\n",
    "                            file_path = os.path.join(root, file)\n",
    "                            with zipfile.ZipFile(file_path) as zip_ref:\n",
    "                                zip_ref.extractall(self.config.dataset_dir)\n",
    "\n",
    "                shutil.rmtree(self.config.raw_dataset_dir)\n",
    "            \n",
    "            except Exception as e:\n",
    "                raise e\n",
    "            \n",
    "    \n",
    "    def initiate_data_ingestion(self) -> None:\n",
    "        self._download_dataset()\n",
    "        self._preprocess_dataset()\n",
    "    "
   ]
  },
  {
   "cell_type": "code",
   "execution_count": 32,
   "metadata": {},
   "outputs": [
    {
     "name": "stderr",
     "output_type": "stream",
     "text": [
      "2023-11-22 10:31:15,018 : wasteDetection.logger - INFO - YAML file: config/config.yaml loaded successfully\n",
      "2023-11-22 10:31:15,020 : wasteDetection.logger - INFO - YAML file: params.yaml loaded successfully\n",
      "2023-11-22 10:31:15,022 : wasteDetection.logger - INFO - created directory at: artifacts\n",
      "2023-11-22 10:31:15,024 : wasteDetection.logger - INFO - created directory at: artifacts/data_ingestion\n",
      "2023-11-22 10:31:15,026 : wasteDetection.logger - INFO - created directory at: artifacts/data_ingestion/raw_dataset\n",
      "Downloading...\n",
      "From (uriginal): https://drive.google.com/uc?/export=download&id=1YBtZfdYtJ341DJ51JJFA8iOrHC4A9b22\n",
      "From (redirected): https://drive.google.com/uc?/export=download&id=1YBtZfdYtJ341DJ51JJFA8iOrHC4A9b22&confirm=t&uuid=1e7efe45-a044-4bfd-b9fb-2604d8273cd2\n",
      "To: /home/utpal108/dev/Python/PW_Skills_Projects/waste-detection-using-yoloV5/artifacts/data_ingestion/raw_dataset/data.zip\n",
      "100%|██████████| 168M/168M [01:06<00:00, 2.53MB/s]\n",
      "2023-11-22 10:32:23,685 : wasteDetection.logger - INFO - Dataset downloaded successful\n",
      "2023-11-22 10:32:23,686 : wasteDetection.logger - INFO - created directory at: artifacts/data_ingestion/dataset\n"
     ]
    }
   ],
   "source": [
    "# Pipeline\n",
    "try:\n",
    "    config = ConfigurationManager()\n",
    "    data_ingestion_config = config.get_data_ingestion_config()\n",
    "    data_ingestion = DataIngestion(config=data_ingestion_config)\n",
    "    data_ingestion.initiate_data_ingestion()\n",
    "\n",
    "except Exception as e:\n",
    "    raise(e)"
   ]
  },
  {
   "cell_type": "code",
   "execution_count": null,
   "metadata": {},
   "outputs": [],
   "source": []
  }
 ],
 "metadata": {
  "kernelspec": {
   "display_name": "venv",
   "language": "python",
   "name": "python3"
  },
  "language_info": {
   "codemirror_mode": {
    "name": "ipython",
    "version": 3
   },
   "file_extension": ".py",
   "mimetype": "text/x-python",
   "name": "python",
   "nbconvert_exporter": "python",
   "pygments_lexer": "ipython3",
   "version": "3.10.12"
  }
 },
 "nbformat": 4,
 "nbformat_minor": 2
}
